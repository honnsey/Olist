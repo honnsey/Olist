{
 "cells": [
  {
   "cell_type": "code",
   "execution_count": 13,
   "id": "44b07c64",
   "metadata": {},
   "outputs": [],
   "source": [
    "# IMPORT\n",
    "import pandas as pd\n",
    "import numpy as np\n",
    "import re\n",
    "\n",
    "# Project-specific modules\n",
    "from olist.data import *\n",
    "from olist.utils import *\n",
    "from olist.visualisation import *\n",
    "\n",
    "# visualization\n",
    "import matplotlib.pyplot as pl\n",
    "import seaborn as sns\n",
    "import folium"
   ]
  },
  {
   "cell_type": "markdown",
   "id": "e0e7425e",
   "metadata": {},
   "source": [
    "# Map number of orders by location"
   ]
  },
  {
   "cell_type": "code",
   "execution_count": 4,
   "id": "356abbb4",
   "metadata": {},
   "outputs": [],
   "source": [
    "data = Olist().get_data()"
   ]
  },
  {
   "cell_type": "code",
   "execution_count": 5,
   "id": "97f189e3",
   "metadata": {},
   "outputs": [],
   "source": [
    "sellers = data['sellers']\n",
    "geolocation = data['geolocation']\n",
    "customers = data['customers']"
   ]
  },
  {
   "cell_type": "code",
   "execution_count": 18,
   "id": "f4d96e08",
   "metadata": {
    "scrolled": true
   },
   "outputs": [
    {
     "ename": "NameError",
     "evalue": "name 'dummy' is not defined",
     "output_type": "error",
     "traceback": [
      "\u001b[0;31m---------------------------------------------------------------------------\u001b[0m",
      "\u001b[0;31mNameError\u001b[0m                                 Traceback (most recent call last)",
      "\u001b[0;32m/var/folders/nd/pgsq9c7134jfmgn899bxhdjc0000gn/T/ipykernel_18058/2518319685.py\u001b[0m in \u001b[0;36m<module>\u001b[0;34m\u001b[0m\n\u001b[1;32m      1\u001b[0m \u001b[0msellers_by_state\u001b[0m \u001b[0;34m=\u001b[0m \u001b[0mcount_p_location\u001b[0m\u001b[0;34m(\u001b[0m\u001b[0msellers\u001b[0m\u001b[0;34m,\u001b[0m \u001b[0;34m[\u001b[0m\u001b[0;34m'seller_state'\u001b[0m\u001b[0;34m,\u001b[0m\u001b[0;34m'seller_id'\u001b[0m\u001b[0;34m]\u001b[0m\u001b[0;34m,\u001b[0m \u001b[0;34m'state'\u001b[0m\u001b[0;34m)\u001b[0m\u001b[0;34m\u001b[0m\u001b[0;34m\u001b[0m\u001b[0m\n\u001b[0;32m----> 2\u001b[0;31m \u001b[0mdummy\u001b[0m\u001b[0;34m(\u001b[0m\u001b[0;36m1\u001b[0m\u001b[0;34m,\u001b[0m\u001b[0;36m2\u001b[0m\u001b[0;34m)\u001b[0m\u001b[0;34m\u001b[0m\u001b[0;34m\u001b[0m\u001b[0m\n\u001b[0m",
      "\u001b[0;31mNameError\u001b[0m: name 'dummy' is not defined"
     ]
    }
   ],
   "source": [
    "sellers_by_state = count_p_location(sellers, ['seller_state','seller_id'], 'state')\n",
    "dummy(1,2)"
   ]
  },
  {
   "cell_type": "code",
   "execution_count": null,
   "id": "494d8713",
   "metadata": {},
   "outputs": [],
   "source": [
    "customers_by_state = location_data_process(customers, ['customer_state','customer_id'], 'Customers')\n",
    "\n",
    "by_state_plot(customers_by_state)"
   ]
  },
  {
   "cell_type": "code",
   "execution_count": null,
   "id": "c9c05137",
   "metadata": {
    "scrolled": true
   },
   "outputs": [],
   "source": [
    "plot_map(sellers_by_zip_code)"
   ]
  },
  {
   "cell_type": "code",
   "execution_count": null,
   "id": "3751cbb2",
   "metadata": {},
   "outputs": [],
   "source": []
  }
 ],
 "metadata": {
  "kernelspec": {
   "display_name": "Python 3 (ipykernel)",
   "language": "python",
   "name": "python3"
  },
  "language_info": {
   "codemirror_mode": {
    "name": "ipython",
    "version": 3
   },
   "file_extension": ".py",
   "mimetype": "text/x-python",
   "name": "python",
   "nbconvert_exporter": "python",
   "pygments_lexer": "ipython3",
   "version": "3.8.12"
  },
  "toc": {
   "base_numbering": 1,
   "nav_menu": {},
   "number_sections": true,
   "sideBar": true,
   "skip_h1_title": false,
   "title_cell": "Table of Contents",
   "title_sidebar": "Contents",
   "toc_cell": false,
   "toc_position": {},
   "toc_section_display": true,
   "toc_window_display": false
  }
 },
 "nbformat": 4,
 "nbformat_minor": 5
}
